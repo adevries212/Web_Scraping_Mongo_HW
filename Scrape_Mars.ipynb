{
 "cells": [
  {
   "cell_type": "code",
   "execution_count": null,
   "metadata": {},
   "outputs": [],
   "source": [
    "from splinter import Browser\n",
    "from bs4 import BeautifulSoup\n",
    "import pandas as pd\n",
    "import time\n"
   ]
  },
  {
   "cell_type": "code",
   "execution_count": null,
   "metadata": {},
   "outputs": [],
   "source": [
    "def init_browser():\n",
    "    executable_path = {'executable_path': '/usr/local/bin/chromedriver'}\n",
    "    return Browser('chrome', **executable_path, headless=False)\n"
   ]
  },
  {
   "cell_type": "code",
   "execution_count": null,
   "metadata": {},
   "outputs": [],
   "source": [
    "def scrape():\n",
    "    browser = init_browser()\n",
    "    mars = {}\n",
    "\n",
    "    url = 'https://mars.nasa.gov/news/'\n",
    "    browser.visit(url)\n",
    "    time.sleep(1)\n",
    "\n",
    "    html = browser.html\n",
    "    news_soup = BeautifulSoup(html, 'html.parser')\n",
    "    listTextLabelElem = news_soup.find('div', class_='listTextLabel')\n",
    "    mars[\"news_title\"] = listTextLabelElem.find('a').get_text()\n",
    "    mars[\"news_paragraph\"] = listTextLabelElem.find('p').get_text()\n",
    "\n",
    "    url = 'https://www.jpl.nasa.gov/spaceimages/?search=&category=Mars'\n",
    "    browser.visit(url)\n",
    "    time.sleep(1)\n",
    "\n",
    "    full_image_elem = browser.find_by_id('full_image')\n",
    "    full_image_elem.click()\n",
    "    time.sleep(2)\n",
    "\n",
    "    more_info_elem = browser.find_link_by_partial_text('more info')\n",
    "    more_info_elem.click()\n",
    "    time.sleep(2)\n",
    "\n",
    "    html = browser.html\n",
    "    img_soup = BeautifulSoup(html, 'html.parser')\n",
    "\n",
    "    img_url_rel = img_soup.find('figure', class_='lede').find('img')['src']\n",
    "\n",
    "    mars[\"featured_image\"] = f'https://www.jpl.nasa.gov{img_url_rel}'\n",
    "\n",
    "    url = 'https://twitter.com/marswxreport?lang=en'\n",
    "    browser.visit(url)\n",
    "    time.sleep(1)\n",
    "\n",
    "    html = browser.html\n",
    "    weather_soup = BeautifulSoup(html, 'html.parser')\n",
    "\n",
    "    mars_weather_tweet = weather_soup.find('div', attrs={\"class\": \"tweet\", \"data-name\": \"Mars Weather\"})\n",
    "\n",
    "    mars[\"weather\"] = mars_weather_tweet.find('p', 'tweet-text').get_text()\n",
    "\n",
    "    url = 'https://astrogeology.usgs.gov/search/results?q=hemisphere+enhanced&k1=target&v1=Mars'\n",
    "    browser.visit(url)\n",
    "    time.sleep(1)\n",
    "\n",
    "    hemisphere_image_urls = []\n",
    "\n",
    "    links = browser.find_by_css(\"a.product-item\")\n",
    "\n",
    "    for i in range(len(links)):\n",
    "        hemisphere = {}\n",
    "\n",
    "        browser.find_by_css(\"a.product-item\")[i].click()\n",
    "\n",
    "        sample_elem = browser.find_link_by_text('Sample').first\n",
    "        hemisphere['img_url'] = sample_elem['href']\n",
    "\n",
    "        hemisphere['title'] = browser.find_by_css(\"h2.title\").text\n",
    "\n",
    "        hemisphere_image_urls.append(hemisphere)\n",
    "\n",
    "        browser.back()\n",
    "        time.sleep(1)\n",
    "\n",
    "    mars[\"hemispheres\"] = hemisphere_image_urls\n",
    "\n",
    "    df = pd.read_html('http://space-facts.com/mars/')[0]\n",
    "    df.columns = ['description', 'value']\n",
    "    df.set_index('description', inplace=True)\n",
    "\n",
    "    table = df.to_html()\n",
    "    table = table.replace('\\n', '')\n",
    "\n",
    "    mars['facts'] = table\n",
    "\n",
    "    browser.quit()\n",
    "\n",
    "    return mars\n"
   ]
  },
  {
   "cell_type": "code",
   "execution_count": null,
   "metadata": {},
   "outputs": [],
   "source": []
  },
  {
   "cell_type": "code",
   "execution_count": null,
   "metadata": {},
   "outputs": [],
   "source": []
  },
  {
   "cell_type": "code",
   "execution_count": null,
   "metadata": {},
   "outputs": [],
   "source": []
  },
  {
   "cell_type": "code",
   "execution_count": null,
   "metadata": {},
   "outputs": [],
   "source": []
  },
  {
   "cell_type": "code",
   "execution_count": null,
   "metadata": {},
   "outputs": [],
   "source": []
  },
  {
   "cell_type": "code",
   "execution_count": null,
   "metadata": {},
   "outputs": [],
   "source": []
  },
  {
   "cell_type": "code",
   "execution_count": null,
   "metadata": {},
   "outputs": [],
   "source": []
  },
  {
   "cell_type": "code",
   "execution_count": null,
   "metadata": {},
   "outputs": [],
   "source": []
  },
  {
   "cell_type": "code",
   "execution_count": null,
   "metadata": {},
   "outputs": [],
   "source": []
  },
  {
   "cell_type": "code",
   "execution_count": null,
   "metadata": {},
   "outputs": [],
   "source": []
  },
  {
   "cell_type": "code",
   "execution_count": null,
   "metadata": {},
   "outputs": [],
   "source": []
  }
 ],
 "metadata": {
  "kernelspec": {
   "display_name": "Python 3",
   "language": "python",
   "name": "python3"
  },
  "language_info": {
   "codemirror_mode": {
    "name": "ipython",
    "version": 3
   },
   "file_extension": ".py",
   "mimetype": "text/x-python",
   "name": "python",
   "nbconvert_exporter": "python",
   "pygments_lexer": "ipython3",
   "version": "3.6.4"
  }
 },
 "nbformat": 4,
 "nbformat_minor": 2
}
